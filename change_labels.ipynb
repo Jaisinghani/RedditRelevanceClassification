{
 "cells": [
  {
   "cell_type": "code",
   "execution_count": null,
   "metadata": {},
   "outputs": [],
   "source": [
    "import gensim\n",
    "import gensim.models.keyedvectors as word2vec\n",
    "import numpy as np\n",
    "model = gensim.models.KeyedVectors.load_word2vec_format(\"GoogleNews-vectors-negative300.bin\", binary=True)\n",
    "\n",
    "def cosine_sim(a, b):\n",
    "    return np.dot(a, b) / (np.linalg.norm(a) * np.linalg.norm(b))\n",
    "\n",
    "def avg_sentence(sentence, wv):\n",
    "    v = np.zeros(300)\n",
    "    for w in sentence:\n",
    "        if w in wv:\n",
    "            v += wv[w]\n",
    "    return v / len(sentence)"
   ]
  },
  {
   "cell_type": "code",
   "execution_count": null,
   "metadata": {},
   "outputs": [],
   "source": [
    "from sklearn.metrics import accuracy_score\n",
    "import nltk\n",
    "from nltk.corpus import stopwords\n",
    "stop_words = stopwords.words('english')\n"
   ]
  },
  {
   "cell_type": "code",
   "execution_count": null,
   "metadata": {},
   "outputs": [],
   "source": [
    "import csv\n",
    "with open('zero_lbl.txt') as tsvfile, open('zero_label.txt', 'w') as t:\n",
    "    reader = csv.reader(tsvfile, delimiter='\\t')\n",
    "    temp = csv.writer(t, delimiter=\"\\t\")\n",
    "    count = 0\n",
    "    lbl_count = {\"0\":0, \"1\":0}\n",
    "    y_true, y_predict = [], []\n",
    "    for row in reader:\n",
    "        #if count < 0:\n",
    "        #    break    \n",
    "        #print(row[0], \"3: \", row[3],\"4: \", row[4],\"5: \", row[5])\n",
    "        sen1 = [word for word in (\"\".join(x for x in row[3] if x.isalnum() or x == \" \")).split() if word not in stop_words]\n",
    "        sen2 = [word for word in (\"\".join(x for x in row[4] if x.isalnum() or x == \" \")).split() if word not in stop_words]\n",
    "        #sen2 = \"\".join(x for x in row[4] if x.isalnum() or x == \" \")\n",
    "        vec1 = avg_sentence(sen1, model.wv)\n",
    "        vec2 = avg_sentence(sen2, model.wv)\n",
    "        sim = cosine_sim(vec1, vec2)\n",
    "        y_predict.append(1 if sim > 0.9 else 0)\n",
    "        y_true.append(int(row[5]))\n",
    "        row[5] = \"1\" if sim > 0.9 else \"0\"\n",
    "        temp.writerow(row)\n",
    "        print(row[3], row[4], sim)\n",
    "        lbl_count[row[5]] += 1\n",
    "        count += 1    \n",
    "    print(accuracy_score(y_true, y_predict))\n",
    "    print(lbl_count, count)"
   ]
  },
  {
   "cell_type": "code",
   "execution_count": null,
   "metadata": {},
   "outputs": [],
   "source": []
  }
 ],
 "metadata": {
  "kernelspec": {
   "display_name": "Python 3",
   "language": "python",
   "name": "python3"
  },
  "language_info": {
   "codemirror_mode": {
    "name": "ipython",
    "version": 3
   },
   "file_extension": ".py",
   "mimetype": "text/x-python",
   "name": "python",
   "nbconvert_exporter": "python",
   "pygments_lexer": "ipython3",
   "version": "3.7.3"
  }
 },
 "nbformat": 4,
 "nbformat_minor": 2
}
